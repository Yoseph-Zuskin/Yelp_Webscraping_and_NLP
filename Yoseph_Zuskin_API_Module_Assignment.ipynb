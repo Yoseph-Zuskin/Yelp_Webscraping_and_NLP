{
 "cells": [
  {
   "cell_type": "markdown",
   "metadata": {},
   "source": [
    "# API Module Project by Yoseph Zuskin, 2019-12-26"
   ]
  },
  {
   "cell_type": "code",
   "execution_count": 1,
   "metadata": {},
   "outputs": [],
   "source": [
    "# Load the packages needed for this Notebook\n",
    "import requests\n",
    "import json\n",
    "import urllib3\n",
    "import certifi\n",
    "import bs4\n",
    "import time\n",
    "import random\n",
    "from math import ceil\n",
    "from string import punctuation\n",
    "from inflect import engine\n",
    "from collections import defaultdict\n",
    "from datetime import date, datetime\n",
    "import matplotlib.pyplot as plt\n",
    "import nltk.sentiment.util\n",
    "from nltk.sentiment import SentimentAnalyzer\n",
    "from nltk.classify import NaiveBayesClassifier"
   ]
  },
  {
   "cell_type": "markdown",
   "metadata": {},
   "source": [
    "## Using the Yelp Fusion API to Obtain List of Toronto Businesses"
   ]
  },
  {
   "cell_type": "code",
   "execution_count": 2,
   "metadata": {},
   "outputs": [],
   "source": [
    "# Load your Yelp Fusion API key from text file in same folder as this Notebook\n",
    "with open('Yelp_API_Key.txt', 'r') as file:\n",
    "    yelp_key = file.read()\n",
    "    \n",
    "# Alternatively, you may comment out the lines above and uncomment the line below to directly insert your API key\n",
    "#yelp_key = ''"
   ]
  },
  {
   "cell_type": "code",
   "execution_count": 3,
   "metadata": {},
   "outputs": [],
   "source": [
    "# Define the string to initiate the Yelp Fusion API requests\n",
    "yelp_fusion_api_key = {'Authorization': 'Bearer %s' % yelp_key}"
   ]
  },
  {
   "cell_type": "code",
   "execution_count": 4,
   "metadata": {},
   "outputs": [],
   "source": [
    "# Obtain the Yelp aliases of 1,000 businesses in Toronto by 20 iterations which collect 50 aliases in each,\n",
    "# in order to conform with the limitations of the Yelp Fusion API search capability\n",
    "toronto_businesses = list() # First create an empty list into which the JSON data will be added\n",
    "endpoint = 'https://api.yelp.com/v3/businesses/search?location=toronto' # Declare the API endpoint\n",
    "for i in range(0,1000,50): # Iterate over 0 to 950 to offset the search by that number each iteration\n",
    "    # Submit a get request from the Yelp Fusion API to obtain 50 business aliases in each iteration\n",
    "    r = requests.get(endpoint+'&limit=50&offset='+str(i), # Offset for the next 50 businesses\n",
    "                     # Activate the API using the key which you uploaded via text file in an ealier cell\n",
    "                     headers=yelp_fusion_api_key)\n",
    "    # Append the resulting list of 50 business Yelp alises to the existing list of Toronto businesses\n",
    "    toronto_businesses.extend(json.loads(r.content)['businesses'])"
   ]
  },
  {
   "cell_type": "code",
   "execution_count": 5,
   "metadata": {},
   "outputs": [],
   "source": [
    "# Initiate a random seed instance of your choosing (randomly select your own seed if you choose to run this)\n",
    "random.seed(454)\n",
    "\"\"\"\n",
    "The code below will randomly select 120 Toronto businesses from the list obtained from the cell above in order\n",
    "to use their aliases to scrape the Yelp.ca website for full reviews. The webscraping code written in the cells\n",
    "below should take approximately one and a half hours or so to completely loop over 2 Yelp pages for each of the\n",
    "Toronto businesses and obtain as many reviews as possible from those two pages. If you would like to reduce the\n",
    "time it will take the webscraping to complete, reduce the number of Toronto businesses which are randomly sampled\n",
    "by changing the k parameter in the random.sample function called in the line below.\n",
    "\"\"\"\n",
    "randomly_sampled_toronto_businesses=random.sample([business for business in toronto_businesses\n",
    "                                                   if business['review_count']>=40], k=120)"
   ]
  },
  {
   "cell_type": "markdown",
   "metadata": {},
   "source": [
    "## Webscraping Yelp.ca for Full Reviews of a Sample of Toronto Businesses"
   ]
  },
  {
   "cell_type": "code",
   "execution_count": 6,
   "metadata": {},
   "outputs": [],
   "source": [
    "# Initiate an instance of the urllib3 PoolManager to handle URL calls in the loop below\n",
    "http = urllib3.PoolManager(cert_reqs='CERT_REQUIRED',ca_certs=certifi.where())"
   ]
  },
  {
   "cell_type": "code",
   "execution_count": 7,
   "metadata": {},
   "outputs": [],
   "source": [
    "# Initate an instane of an empty list into which the labeled reviews will be added\n",
    "review_labels = list()"
   ]
  },
  {
   "cell_type": "code",
   "execution_count": 8,
   "metadata": {},
   "outputs": [
    {
     "data": {
      "text/plain": [
       "52"
      ]
     },
     "execution_count": 8,
     "metadata": {},
     "output_type": "execute_result"
    }
   ],
   "source": [
    "# Initiate an empty log file into which the webscraping performance will be recorded\n",
    "log_file = open('webscraping_log_'+datetime.today().strftime('%Y-%m-%d_%H-%M-%S')+'.txt', mode='w+')\n",
    "log_file.write(datetime.today().strftime('%m/%d/%Y, %H:%M:%S - ')+'Created webscraper log file.\\n')"
   ]
  },
  {
   "cell_type": "code",
   "execution_count": 10,
   "metadata": {
    "collapsed": true,
    "jupyter": {
     "outputs_hidden": true
    }
   },
   "outputs": [
    {
     "ename": "IndexError",
     "evalue": "list index out of range",
     "output_type": "error",
     "traceback": [
      "\u001b[1;31m---------------------------------------------------------------------------\u001b[0m",
      "\u001b[1;31mIndexError\u001b[0m                                Traceback (most recent call last)",
      "\u001b[1;32m<ipython-input-10-f571be3ca6ec>\u001b[0m in \u001b[0;36m<module>\u001b[1;34m\u001b[0m\n\u001b[0;32m     61\u001b[0m     \u001b[1;31m# Use the BeautifulSoup package to select the 20 reviews shown on this page and transform the data\u001b[0m\u001b[1;33m\u001b[0m\u001b[1;33m\u001b[0m\u001b[1;33m\u001b[0m\u001b[0m\n\u001b[0;32m     62\u001b[0m     \u001b[1;31m# into stirng form, and use the JSON package to transform the data to dictionary form\u001b[0m\u001b[1;33m\u001b[0m\u001b[1;33m\u001b[0m\u001b[1;33m\u001b[0m\u001b[0m\n\u001b[1;32m---> 63\u001b[1;33m     \u001b[0mreveiews_data\u001b[0m \u001b[1;33m=\u001b[0m \u001b[0mjson\u001b[0m\u001b[1;33m.\u001b[0m\u001b[0mloads\u001b[0m\u001b[1;33m(\u001b[0m\u001b[0mhtml\u001b[0m\u001b[1;33m.\u001b[0m\u001b[0mfind_all\u001b[0m\u001b[1;33m(\u001b[0m\u001b[1;34m'script'\u001b[0m\u001b[1;33m)\u001b[0m\u001b[1;33m[\u001b[0m\u001b[1;36m7\u001b[0m\u001b[1;33m]\u001b[0m\u001b[1;33m.\u001b[0m\u001b[0mtext\u001b[0m\u001b[1;33m)\u001b[0m\u001b[1;33m\u001b[0m\u001b[1;33m\u001b[0m\u001b[0m\n\u001b[0m\u001b[0;32m     64\u001b[0m     \u001b[1;31m# Define the list of the next 20 or so review descriptions for this Toronto business\u001b[0m\u001b[1;33m\u001b[0m\u001b[1;33m\u001b[0m\u001b[1;33m\u001b[0m\u001b[0m\n\u001b[0;32m     65\u001b[0m     \u001b[0mreviews\u001b[0m \u001b[1;33m=\u001b[0m \u001b[1;33m[\u001b[0m\u001b[0mreview\u001b[0m\u001b[1;33m[\u001b[0m\u001b[1;34m'description'\u001b[0m\u001b[1;33m]\u001b[0m \u001b[1;32mfor\u001b[0m \u001b[0mreview\u001b[0m \u001b[1;32min\u001b[0m \u001b[0mreveiews_data\u001b[0m\u001b[1;33m[\u001b[0m\u001b[1;34m'review'\u001b[0m\u001b[1;33m]\u001b[0m\u001b[1;33m]\u001b[0m\u001b[1;33m\u001b[0m\u001b[1;33m\u001b[0m\u001b[0m\n",
      "\u001b[1;31mIndexError\u001b[0m: list index out of range"
     ]
    }
   ],
   "source": [
    "seed = 1226 # Choose your own random seed state to help further mask the webscraper by adding randomness\n",
    "random.seed(seed) # Initiate the randon seed state of your choosing (please select one different from mine)\n",
    "reviews_counter = 0 # Initiate a reviews counter to determine how many reviews are webscraped using this loop\n",
    "start_time = datetime.today() # Declare a variable capturing the time when the webscraping began\n",
    "log_file.write(start_time.strftime('%m/%d/%Y, %H:%M:%S - ')+'Began the Yelp reviews webscraping loop with'+\n",
    "               ' a random seed state of '+str(seed)+'\\n') # Record that the webscraping loop is beginning\n",
    "\n",
    "# Iterate over the list of Toronto business alieses to obtain the full content of all its Yelp reviews to date\n",
    "for alias in [toronto_business['alias'] for toronto_business in randomly_sampled_toronto_businesses]:\n",
    "    \n",
    "    \"\"\" visiting the url of the Toronto business containing the first 20 reviews \"\"\"\n",
    "    # Define the URL for the Yelp page of the Toronto business using the selected alias\n",
    "    url = 'https://www.yelp.ca/biz/'+alias\n",
    "    # Use the urllib3 PoolManager instance to go to the Yelp page of the Toronto business\n",
    "    response = http.request('GET', url)\n",
    "    # Record the URL \"visit\" to Toronto business' first Yelp page in the webscraper log file\n",
    "    log_file.write(datetime.today().strftime('%m/%d/%Y, %H:%M:%S - ')+\n",
    "                   'Visited the first page of Yelp reviews for '+alias+'.\\n')\n",
    "    # Use the BeautifulSoup package to obtain the HTML of the website \"visited\" in the code above\n",
    "    html = bs4.BeautifulSoup(response.data)\n",
    "    # Use the BeautifulSoup package to select the 20 reviews shown on this page and transform the data\n",
    "    # into stirng form, and use the JSON package to transform the data to dictionary form\n",
    "    reveiews_data = json.loads(html.find_all('script')[7].text)\n",
    "    # Determine the total number of Yelp reviews which this Toronto business has recieved\n",
    "    reveiws_num = reveiews_data['aggregateRating']['reviewCount']\n",
    "    # As there are 20 reviews per page, determine the number of pages of reviews this Torono business has\n",
    "    pages_num = ceil(reveiws_num / 20)\n",
    "    # Define the list of the first 20 review descriptions for this Toronto business\n",
    "    reviews = [review['description'] for review in reveiews_data['review']]\n",
    "    # Define the list of the first 20 review ratings for this Toronto business\n",
    "    ratings = [rating['reviewRating']['ratingValue'] for rating in reveiews_data['review']]\n",
    "    # Record the number of reviews webscraped from this page in the webscraper log file\n",
    "    log_file.write(datetime.today().strftime('%m/%d/%Y, %H:%M:%S - ')+\n",
    "                   'Successfully webscraped '+str(len(reviews))+' Yelp reviews from the first page.\\n')\n",
    "    reviews_counter += len(reviews) # Update the number of Yelp reviews successfully webscrapped to this point\n",
    "    # Add the first 20 reviews for this Toronto business to the list of review labels\n",
    "    review_labels.extend([[review,rating] for review,rating in zip(reviews,ratings)])\n",
    "    # Pause the loop for 10 to 30 seconds to reduce likelihood of Yelp discovering the scraping\n",
    "    first_pause = random.randint(10, 30) # First randomly select how many seconds this pause will last for\n",
    "    # Record this pause duration in the webscraper log file\n",
    "    log_file.write(datetime.today().strftime('%m/%d/%Y, %H:%M:%S - ')+\n",
    "                   'Randomly decided to pause for '+str(first_pause)+' seconds before visiting next page.\\n')\n",
    "    time.sleep(first_pause) # Then actually pause the code for that timeframe\n",
    "    \n",
    "    \"\"\" visiting a randomly selected next Yelp page containing another 20 or so reviews \"\"\"\n",
    "    # To reduce risk of getting caught by Yelp for scraping, randomly select the next page to scrape\n",
    "    # within either a range of 1 to 8 as that is the options for additional pages given to real page\n",
    "    # visitors, or from 1 to pages_num if there are less than 9 pages of review for this business,\n",
    "    # and there is a chance that the last page will not have 20 reviews so the loop will never go to\n",
    "    # the 9th or last page of this Toronto business's Yelp reviews\n",
    "    next_page = random.randint(1,min(8,pages_num-1))\n",
    "    # Define the URL for the next Yelp page of the Toronto business using the selected alias\n",
    "    url = 'https://www.yelp.ca/biz/'+alias+'?start='+str(next_page*20)\n",
    "    # Use the urllib3 PoolManager instance to go to the Yelp page of the Toronto business\n",
    "    response = http.request('GET', url)\n",
    "    # Record the URL \"visit\" to Toronto business' next selected Yelp page in the webscraper log file\n",
    "    log_file.write(datetime.today().strftime('%m/%d/%Y, %H:%M:%S - ')+\n",
    "                   'Visited page number '+str(next_page)+' of Yelp reviews for '+alias+'\\n')\n",
    "    # Use the BeautifulSoup package to obtain the HTML of the website \"visited\" in the code above\n",
    "    html = bs4.BeautifulSoup(response.data)\n",
    "    # Use the BeautifulSoup package to select the 20 reviews shown on this page and transform the data\n",
    "    # into stirng form, and use the JSON package to transform the data to dictionary form\n",
    "    reveiews_data = json.loads(html.find_all('script')[7].text)\n",
    "    # Define the list of the next 20 or so review descriptions for this Toronto business\n",
    "    reviews = [review['description'] for review in reveiews_data['review']]\n",
    "    # Define the list of the next 20 or so review ratings for this Toronto business\n",
    "    ratings = [rating['reviewRating']['ratingValue'] for rating in reveiews_data['review']]\n",
    "    # Record the number of reviews webscraped from this page in the webscraper log file\n",
    "    log_file.write(datetime.today().strftime('%m/%d/%Y, %H:%M:%S - ')+\n",
    "                   'Successfully webscraped '+str(len(reviews))+' Yelp reviews from page number '+\n",
    "                   str(next_page)+'.\\n')\n",
    "    reviews_counter += len(reviews) # Update the number of Yelp reviews successfully webscrapped to this point\n",
    "    # Add the next 20 or so reviews for this Toronto business to the list of review labels\n",
    "    review_labels.extend([[review,rating] for review,rating in zip(reviews,ratings)])    \n",
    "    # Pause the loop for 10 to 30 seconds to reduce likelihood of Yelp discovering the scraping\n",
    "    second_pause = random.randint(10, 30) # First randomly select how many seconds this pause will last for\n",
    "    # Record this pause duration in the webscraper log file\n",
    "    log_file.write(datetime.today().strftime('%m/%d/%Y, %H:%M:%S - ')+\n",
    "                   'Randomly decided to pause for '+str(second_pause)+' seconds before moving to next business.\\n')\n",
    "    time.sleep(second_pause) # Then actually pause the code for that timeframe\n",
    "end_time = datetime.today() # Declare a variable capturing the time when the webscraping was finished\n",
    "run_time = end_time - start_time # Declare a timedelta variable which states how long the webscraper took to run\n",
    "# Record the successful completion of the loop in the webscaping log file\n",
    "log_file.write(end_time.strftime('%m/%d/%Y, %H:%M:%S - ')+'Completed the Yelp reviews webscraping loop with '+\n",
    "               'total runtime of '+run_time.strftime('%H:%M:%S.%f'),' with a total of '+str(reviews_counter)+\n",
    "               ' successfully scraped from Yelp.ca.\\n')\n",
    "log_file.close() # Close the webscraping log file"
   ]
  },
  {
   "cell_type": "code",
   "execution_count": 11,
   "metadata": {},
   "outputs": [
    {
     "data": {
      "text/plain": [
       "2899"
      ]
     },
     "execution_count": 11,
     "metadata": {},
     "output_type": "execute_result"
    }
   ],
   "source": [
    "# Number of successfully webscraped reviews\n",
    "len(review_labels)"
   ]
  },
  {
   "cell_type": "code",
   "execution_count": 12,
   "metadata": {},
   "outputs": [],
   "source": [
    "# Save the resulting webscraped Yelp review labels as a a json file\n",
    "with open('data_retrieved_'+datetime.today().strftime('%Y-%m-%d')+'.json','x') as file:\n",
    "    file.write(json.dumps(review_labels))"
   ]
  },
  {
   "cell_type": "markdown",
   "metadata": {},
   "source": [
    "## Load and Deduplicate Yelp Reviews Webscraped on 2019-12-25&26"
   ]
  },
  {
   "cell_type": "code",
   "execution_count": 2,
   "metadata": {},
   "outputs": [],
   "source": [
    "# load the data of Yelp reviews retrieved on 2019-12-25 as list of lists\n",
    "with open('data_retrieved_2019-12-25.json', 'r') as file:\n",
    "    data_2019_12_25 = json.load(file)"
   ]
  },
  {
   "cell_type": "code",
   "execution_count": 3,
   "metadata": {},
   "outputs": [],
   "source": [
    "# load the data of Yelp reviews retrieved on 2019-12-25 as list of lists\n",
    "with open('data_retrieved_2019-12-26.json', 'r') as file:\n",
    "    data_2019_12_26 = json.load(file)"
   ]
  },
  {
   "cell_type": "code",
   "execution_count": 4,
   "metadata": {},
   "outputs": [],
   "source": [
    "# Merge the webscraped Yelp reviews data as a single list of lists\n",
    "combined_data = sorted(data_2019_12_25+data_2019_12_26)"
   ]
  },
  {
   "cell_type": "code",
   "execution_count": 5,
   "metadata": {},
   "outputs": [],
   "source": [
    "# Declare a list of review labels by deduplicating the combined datasets of webscraped Yelp reviews\n",
    "review_labels = [combined_data[i] for i in range(len(combined_data)) if i == 0 or\n",
    "                combined_data[i] != combined_data[i-1]]\n",
    "# Or set the review labels to either of the two individual datasets by uncommenting the line below\n",
    "# and commenting out the two lines above this long comment\n",
    "#review_labels = data_2019_12_26"
   ]
  },
  {
   "cell_type": "markdown",
   "metadata": {},
   "source": [
    "## Processing the Yelp Reviews into Tokenized Features"
   ]
  },
  {
   "cell_type": "code",
   "execution_count": 6,
   "metadata": {},
   "outputs": [],
   "source": [
    "# Define a function which will remove unwanted characted from the reviews\n",
    "def remove_characters(string,exclude):\n",
    "    \"\"\"\n",
    "    Remove Unwanted Characters from String:\n",
    "    This function removes specified characters which one wishes to exclude from a string\n",
    "    \n",
    "    Parameters:\n",
    "    string (str): The string which will be filtered to exclude unwanted characters\n",
    "    exclude (list of str): The list of unwanted characters which are to be excluded\n",
    "    \n",
    "    Returns:\n",
    "    string (str): Returns the string without the unwanted characters\n",
    "    \"\"\"\n",
    "    for character in exclude: # Loop over all cha\n",
    "        if character == ('\\t' or '\\n' or '\\r' or '\\x0b' or '\\x0c'):\n",
    "            string = string.replace(character,' ')\n",
    "        elif character == '  ':\n",
    "            string = string.replace(character,' ')\n",
    "        else:\n",
    "            string = string.replace(character,'')\n",
    "    return string"
   ]
  },
  {
   "cell_type": "code",
   "execution_count": 7,
   "metadata": {},
   "outputs": [],
   "source": [
    "# Define the list of characters to be removed from the review descriptions\n",
    "exclude_characters = ['\\t','\\n','\\r','\\x0b','\\x0c','  ']+list(punctuation)"
   ]
  },
  {
   "cell_type": "code",
   "execution_count": 8,
   "metadata": {},
   "outputs": [],
   "source": [
    "# Remove unwanted characters from review descriptions and transform the rating into either positive or negative\n",
    "review_features = [[remove_characters(x,exclude_characters).split(' '),\n",
    "                   'positive' if y > 3 else 'negative'] for (x, y) in review_labels]"
   ]
  },
  {
   "cell_type": "code",
   "execution_count": 9,
   "metadata": {},
   "outputs": [
    {
     "name": "stderr",
     "output_type": "stream",
     "text": [
      "[nltk_data] Downloading package stopwords to\n",
      "[nltk_data]     C:\\Users\\zuski\\AppData\\Roaming\\nltk_data...\n",
      "[nltk_data]   Package stopwords is already up-to-date!\n"
     ]
    }
   ],
   "source": [
    "# Use the nltk package to obtain a list of stop words to be excluded from the NLP\n",
    "nltk.download('stopwords') # First download the if not done so already\n",
    "stop_words = nltk.corpus.stopwords.words('english') # Save list of stop word\n",
    "# Also include variants of the stop words which exclude apostrophe marks\n",
    "stop_words = stop_words + [word.replace(\"'\",\"\") for word in stop_words if \"'\" in word]"
   ]
  },
  {
   "cell_type": "code",
   "execution_count": 10,
   "metadata": {
    "scrolled": true
   },
   "outputs": [
    {
     "data": {
      "text/plain": [
       "['don',\n",
       " \"don't\",\n",
       " 'ain',\n",
       " 'aren',\n",
       " \"aren't\",\n",
       " 'couldn',\n",
       " \"couldn't\",\n",
       " 'didn',\n",
       " \"didn't\",\n",
       " 'doesn',\n",
       " \"doesn't\",\n",
       " 'hadn',\n",
       " \"hadn't\",\n",
       " 'hasn',\n",
       " \"hasn't\",\n",
       " 'haven',\n",
       " \"haven't\",\n",
       " 'isn',\n",
       " \"isn't\",\n",
       " 'ma',\n",
       " 'mightn',\n",
       " \"mightn't\",\n",
       " 'mustn',\n",
       " \"mustn't\",\n",
       " 'needn',\n",
       " \"needn't\",\n",
       " 'shan',\n",
       " \"shan't\",\n",
       " 'shouldn',\n",
       " \"shouldn't\",\n",
       " 'wasn',\n",
       " \"wasn't\",\n",
       " 'weren',\n",
       " \"weren't\",\n",
       " 'won',\n",
       " \"won't\",\n",
       " 'wouldn',\n",
       " \"wouldn't\",\n",
       " 'youre',\n",
       " 'youve',\n",
       " 'youll',\n",
       " 'youd',\n",
       " 'shes',\n",
       " 'its',\n",
       " 'thatll',\n",
       " 'dont',\n",
       " 'shouldve',\n",
       " 'arent',\n",
       " 'couldnt',\n",
       " 'didnt',\n",
       " 'doesnt',\n",
       " 'hadnt',\n",
       " 'hasnt',\n",
       " 'havent',\n",
       " 'isnt',\n",
       " 'mightnt',\n",
       " 'mustnt',\n",
       " 'neednt',\n",
       " 'shant',\n",
       " 'shouldnt',\n",
       " 'wasnt',\n",
       " 'werent',\n",
       " 'wont',\n",
       " 'wouldnt']"
      ]
     },
     "execution_count": 10,
     "metadata": {},
     "output_type": "execute_result"
    }
   ],
   "source": [
    "# based on the following Medium post, decided to not exclude stopwords which might hint at a negative sentiment:\n",
    "# https://towardsdatascience.com/why-you-should-avoid-removing-stopwords-aa7a353d2a52\n",
    "stop_words[131:133]+stop_words[143:]"
   ]
  },
  {
   "cell_type": "code",
   "execution_count": 11,
   "metadata": {},
   "outputs": [],
   "source": [
    "# adjust the list of stop_words to exclude the ones shown above\n",
    "stop_words = stop_words[:131]+stop_words[133:143]\n",
    "# however, it seems to have made no impact on the classifier model performance"
   ]
  },
  {
   "cell_type": "code",
   "execution_count": 12,
   "metadata": {},
   "outputs": [],
   "source": [
    "# Filter out the stop words from all the reviews and set all tokenized words to lowercase\n",
    "for review in review_features: # Loop over each review that was scraped from Yelp.ca\n",
    "    tokens = review[0] # Select the unfiltered word tokens from this review\n",
    "    # Then filter the word tokens to exclude the stop words declared above\n",
    "    tokens = [word.lower() for word in tokens if word.lower() not in stop_words]\n",
    "    review[0] = tokens # Replace the unfilitered list of word tokens with the filtered tokens"
   ]
  },
  {
   "cell_type": "code",
   "execution_count": 13,
   "metadata": {},
   "outputs": [],
   "source": [
    "# Filter out empty word tokens from the review features\n",
    "for review in review_features: # Loop over each review that was scraped from Yelp.ca\n",
    "    tokens = review[0] # Select the unfiltered word tokens from this review\n",
    "    while '' in tokens: # Loop over all empty strings\n",
    "        tokens.remove('') # Remove each empty string\n",
    "    review[0] = tokens # Replace filtered tokens with the same list but without empty strings"
   ]
  },
  {
   "cell_type": "code",
   "execution_count": 26,
   "metadata": {},
   "outputs": [],
   "source": [
    "# After running the classification model once without using this function to transform the strings\n",
    "# of numbers into phrases describing the numbers, and then once with this processing applied to the\n",
    "# reviews features, it appears it did not improve the model and in fact made it slightly worse, so\n",
    "# in practice it might be better to not do this preprocessing and generally leave the tokens less\n",
    "# processed than the extent to which they were processed in this Notebook\n",
    "def check_if_num(string):\n",
    "    \"\"\"\n",
    "    Check If String is a Number:    \n",
    "    This function checks if the string is actually a number by trying to convert it to a float\n",
    "    \n",
    "    Parameters:\n",
    "    string (str): String which is to be checked\n",
    "    \n",
    "    Returns:\n",
    "    bool: Whether it is true or false that the string is a number\n",
    "    \"\"\"\n",
    "    try: # Tries to convert the string to a float\n",
    "        float(string) # By applying the float funtion\n",
    "    except: # If the conversion to a float is unsuccessful\n",
    "        return False # Returns False if the string cannot be converted to a float\n",
    "    else: # If the conversion to a float is successful\n",
    "        return True # Returns True if the string cannot be converted to a float"
   ]
  },
  {
   "cell_type": "code",
   "execution_count": 27,
   "metadata": {},
   "outputs": [],
   "source": [
    "# Transform strings of numbers into the written out words describing that number\n",
    "for review in review_features: # Loop over each review that was scraped from Yelp.ca\n",
    "    tokens = review[0] # Select the unfiltered word tokens from this review\n",
    "    for i in range(len(tokens)): # Loop over all tokenized words\n",
    "        if check_if_num(tokens[i]): # Check if the word happnes to be a string of a number\n",
    "            tokens[i] = engine().number_to_words(tokens[i])\n",
    "            if ' ' in tokens[i]: # Check if the resulting string is a long phrase delimited by spaces\n",
    "                tokens[i] = tokens[i].replace(' ','-') # Replace spaces with hyphens if that's the case\n",
    "        else: # Otherwise skip this tokenized word as no further processing is needed\n",
    "            continue # Continue to next word if not a number\n",
    "    review[0] = tokens # Replace the unfilitered list of word tokens with the filtered tokens"
   ]
  },
  {
   "cell_type": "code",
   "execution_count": 14,
   "metadata": {},
   "outputs": [
    {
     "data": {
      "text/plain": [
       "6614"
      ]
     },
     "execution_count": 14,
     "metadata": {},
     "output_type": "execute_result"
    }
   ],
   "source": [
    "# Show the number of reviews which were successfully webscraped and tokenized from Yelp.ca\n",
    "len(review_features)"
   ]
  },
  {
   "cell_type": "code",
   "execution_count": 15,
   "metadata": {},
   "outputs": [
    {
     "data": {
      "text/plain": [
       "Text(0, 0.5, 'Number of Reviews')"
      ]
     },
     "execution_count": 15,
     "metadata": {},
     "output_type": "execute_result"
    },
    {
     "data": {
      "image/png": "[encoded data removed]",
      "text/plain": [
       "<Figure size 432x288 with 1 Axes>"
      ]
     },
     "metadata": {
      "needs_background": "light"
     },
     "output_type": "display_data"
    }
   ],
   "source": [
    "ratings_distribution = defaultdict(int) # Define an instance of a defaultdict into which the data will be populated\n",
    "for rating in review_labels: # Loop over all ratings in the review labels, which the defaultdict will treat as int\n",
    "    ratings_distribution[rating[1]] += 1 # Raise the count for that rating in the defaultdict based on the review\n",
    "# Then visualize the distribution of review ratings using a barplot\n",
    "plt.bar(ratings_distribution.keys(), ratings_distribution.values(), color='green')\n",
    "plt.title('Distribution of Ratings across Webscraped Yelp Reviews')\n",
    "plt.xlabel('Review Ratings')\n",
    "plt.ylabel('Number of Reviews')"
   ]
  },
  {
   "cell_type": "code",
   "execution_count": 16,
   "metadata": {},
   "outputs": [
    {
     "data": {
      "text/plain": [
       "280"
      ]
     },
     "execution_count": 16,
     "metadata": {},
     "output_type": "execute_result"
    }
   ],
   "source": [
    "# check number of one start reviews\n",
    "ratings_distribution[1]"
   ]
  },
  {
   "cell_type": "code",
   "execution_count": 21,
   "metadata": {},
   "outputs": [
    {
     "ename": "IndexError",
     "evalue": "list index out of range",
     "output_type": "error",
     "traceback": [
      "\u001b[1;31m---------------------------------------------------------------------------\u001b[0m",
      "\u001b[1;31mIndexError\u001b[0m                                Traceback (most recent call last)",
      "\u001b[1;32m<ipython-input-21-0a41b64623f5>\u001b[0m in \u001b[0;36m<module>\u001b[1;34m\u001b[0m\n\u001b[1;32m----> 1\u001b[1;33m \u001b[0mreview_features\u001b[0m\u001b[1;33m[\u001b[0m\u001b[1;36m0\u001b[0m\u001b[1;33m]\u001b[0m\u001b[1;33m[\u001b[0m\u001b[1;36m2\u001b[0m\u001b[1;33m]\u001b[0m\u001b[1;33m\u001b[0m\u001b[1;33m\u001b[0m\u001b[0m\n\u001b[0m",
      "\u001b[1;31mIndexError\u001b[0m: list index out of range"
     ]
    }
   ],
   "source": [
    "review_features[0][2]"
   ]
  },
  {
   "cell_type": "code",
   "execution_count": 30,
   "metadata": {},
   "outputs": [],
   "source": [
    "# Reformat the processed tokenized reviews as a list of tuples after the processing has been completed\n",
    "review_features = [(review,rating) for review,rating in review_features]"
   ]
  },
  {
   "cell_type": "markdown",
   "metadata": {},
   "source": [
    "## Using the Review Features for a Simple Naive Bayes Classifier Model"
   ]
  },
  {
   "cell_type": "code",
   "execution_count": 31,
   "metadata": {},
   "outputs": [
    {
     "name": "stdout",
     "output_type": "stream",
     "text": [
      "Training Set: 4630, Testing Set: 1984\n"
     ]
    }
   ],
   "source": [
    "# Shuffle the reviews and separate 70% into a training and 30% into test set\n",
    "random.seed(32) # First pick a random seed stage value to randomize the shuffle\n",
    "random.shuffle(review_features) # Then apply the random shuffling to the reviews\n",
    "gap = round(len(review_features)*0.7)\n",
    "training_set = review_features[:gap] # Separate into training set of reviews\n",
    "test_set = review_features[gap:] # Separate into the test set of reviews\n",
    "# Print the number of reviews in the training and test sets based on the split\n",
    "print(\"Training Set: %d, Testing Set: %d\" % (len(training_set), len(test_set)))"
   ]
  },
  {
   "cell_type": "code",
   "execution_count": 32,
   "metadata": {},
   "outputs": [],
   "source": [
    "# Initiate an instance of the nltk SentimentAnalyzer\n",
    "sentiment = SentimentAnalyzer()"
   ]
  },
  {
   "cell_type": "code",
   "execution_count": 33,
   "metadata": {},
   "outputs": [],
   "source": [
    "# Define a list of negation words using the mark_negation class of the nltk sentiment utility subpackage\n",
    "all_words_neg = sentiment.all_words([nltk.sentiment.util.mark_negation(review[0], double_neg_flip = True) # <-,\n",
    "                                     for review in training_set]) # Enables recognization of double negations/"
   ]
  },
  {
   "cell_type": "code",
   "execution_count": 34,
   "metadata": {},
   "outputs": [],
   "source": [
    "# Define the feature extraction method for the nltk SentimerAnalyzer class\n",
    "unigram_feats = sentiment.unigram_word_feats(words=all_words_neg, min_freq=4)\n",
    "sentiment.add_feat_extractor(nltk.sentiment.util.extract_unigram_feats, unigrams=unigram_feats)"
   ]
  },
  {
   "cell_type": "code",
   "execution_count": 35,
   "metadata": {},
   "outputs": [],
   "source": [
    "# Apply the feature extraction method defined above on the training and test sets\n",
    "training_set_features = sentiment.apply_features(training_set)\n",
    "test_set_features = sentiment.apply_features(test_set)"
   ]
  },
  {
   "cell_type": "code",
   "execution_count": 36,
   "metadata": {},
   "outputs": [
    {
     "name": "stdout",
     "output_type": "stream",
     "text": [
      "Training classifier\n",
      "Evaluating NaiveBayesClassifier results...\n",
      "Accuracy: 0.8039314516129032\n",
      "F-measure [negative]: 0.5900948366701791\n",
      "F-measure [positive]: 0.8711493872143095\n",
      "Precision [negative]: 0.6320541760722348\n",
      "Precision [positive]: 0.8533419857235561\n",
      "Recall [negative]: 0.5533596837944664\n",
      "Recall [positive]: 0.8897158322056834\n"
     ]
    }
   ],
   "source": [
    "trainer = NaiveBayesClassifier.train # Define instance of the nltk Naive Bayes Classifier class\n",
    "classifier = sentiment.train(trainer, training_set_features) # Train classifier on training set features\n",
    "for key,value in sorted(sentiment.evaluate(test_set_features).items()): # Loop over results of the clasifier model\n",
    "     print('{0}: {1}'.format(key, value)) # Evaluate the results of the Naive Bayes Classifier model"
   ]
  }
 ],
 "metadata": {
  "kernelspec": {
   "display_name": "Python 3",
   "language": "python",
   "name": "python3"
  },
  "language_info": {
   "codemirror_mode": {
    "name": "ipython",
    "version": 3
   },
   "file_extension": ".py",
   "mimetype": "text/x-python",
   "name": "python",
   "nbconvert_exporter": "python",
   "pygments_lexer": "ipython3",
   "version": "3.7.5"
  }
 },
 "nbformat": 4,
 "nbformat_minor": 4
}
